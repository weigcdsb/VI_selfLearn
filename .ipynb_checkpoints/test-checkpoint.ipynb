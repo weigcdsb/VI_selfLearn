{
 "cells": [
  {
   "cell_type": "code",
   "execution_count": 1,
   "id": "ee147fa4-24b3-4366-95fe-ac196df5c31d",
   "metadata": {},
   "outputs": [],
   "source": [
    "import sys"
   ]
  },
  {
   "cell_type": "code",
   "execution_count": 2,
   "id": "1af7960b-663e-45e5-b071-707ae20c00ee",
   "metadata": {},
   "outputs": [],
   "source": [
    "sys.path.append(\"D:/test\")"
   ]
  },
  {
   "cell_type": "code",
   "execution_count": 3,
   "id": "04ffcf80-9438-4cbc-9468-2604f4cd17cb",
   "metadata": {},
   "outputs": [],
   "source": [
    "from func.myFunc2 import *"
   ]
  },
  {
   "cell_type": "code",
   "execution_count": 4,
   "id": "3f5e9048-751f-4591-8366-246996039766",
   "metadata": {},
   "outputs": [
    {
     "data": {
      "text/plain": [
       "4"
      ]
     },
     "execution_count": 4,
     "metadata": {},
     "output_type": "execute_result"
    }
   ],
   "source": [
    "plustwo(2)"
   ]
  },
  {
   "cell_type": "code",
   "execution_count": 5,
   "id": "007b2020-cd10-4f3d-b579-f340e8188675",
   "metadata": {},
   "outputs": [],
   "source": [
    "def plusthree(n):\n",
    "    out = n + 3\n",
    "    return out"
   ]
  },
  {
   "cell_type": "code",
   "execution_count": 6,
   "id": "e2bdcb9e-0490-46a6-9e12-23e75753cf56",
   "metadata": {},
   "outputs": [
    {
     "data": {
      "text/plain": [
       "6"
      ]
     },
     "execution_count": 6,
     "metadata": {},
     "output_type": "execute_result"
    }
   ],
   "source": [
    "plusthree(3)"
   ]
  },
  {
   "cell_type": "code",
   "execution_count": 7,
   "id": "2bcb1640-cd1a-4f7b-89cb-6feb5009259e",
   "metadata": {},
   "outputs": [
    {
     "data": {
      "text/plain": [
       "'D:\\\\JupyterLab'"
      ]
     },
     "execution_count": 7,
     "metadata": {},
     "output_type": "execute_result"
    }
   ],
   "source": [
    "%pwd"
   ]
  },
  {
   "cell_type": "code",
   "execution_count": null,
   "id": "7cc47e23-3b9b-407d-b7f4-10a943f6f558",
   "metadata": {},
   "outputs": [],
   "source": []
  }
 ],
 "metadata": {
  "kernelspec": {
   "display_name": "Python 3 (ipykernel)",
   "language": "python",
   "name": "python3"
  },
  "language_info": {
   "codemirror_mode": {
    "name": "ipython",
    "version": 3
   },
   "file_extension": ".py",
   "mimetype": "text/x-python",
   "name": "python",
   "nbconvert_exporter": "python",
   "pygments_lexer": "ipython3",
   "version": "3.9.15"
  }
 },
 "nbformat": 4,
 "nbformat_minor": 5
}
